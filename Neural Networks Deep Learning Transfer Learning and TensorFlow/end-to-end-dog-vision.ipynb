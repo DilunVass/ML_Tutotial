{
 "cells": [
  {
   "cell_type": "markdown",
   "metadata": {},
   "source": [
    "# End-to-end Multi-class Dog Breed Classification\n",
    "\n",
    "This notebook builds an end-to-end multi-class image classifier using TensorFlow 2.0 and TensorFlow Hub.\n",
    "\n",
    "## 1. Problem\n",
    "Identifies the breed of a dog in an image.\n",
    "\n",
    "When I'm sitting at a cafe and I take a picture of a dog, I want to know what breed it is.\n",
    "\n",
    "## 2. Data\n",
    "The data were using is from the Kaggle Dog Breed Identification competition. https://www.kaggle.com/c/dog-breed-identification/data\n",
    "\n",
    "## 3. Evaluation\n",
    "The evaluation is a file with prediction probabilities for each dog breed of each test image.\n",
    "\n",
    "## 4. Features\n",
    "Some information about the data:\n",
    "* We're dealing with images (unstructured data) so it's probably best we use deep learning/transfer learning.\n",
    "* There are 120 breeds of dogs (this means there are 120 different classes).\n",
    "* There are around 10,000+ images in the training set (these images have labels).\n",
    "* There are around 10,000+ images in the test set (these images have no labels, because we'll want to predict them).\n"
   ]
  },
  {
   "cell_type": "code",
   "execution_count": 11,
   "metadata": {},
   "outputs": [],
   "source": [
    "from colabcode import ColabCode\n",
    "\n",
    "from google.colab import drive\n",
    "drive.mount(\"/content/drive\")"
   ]
  },
  {
   "cell_type": "code",
   "execution_count": 7,
   "metadata": {},
   "outputs": [
    {
     "name": "stdout",
     "output_type": "stream",
     "text": [
      "2.17.0\n",
      "0.16.1\n",
      "Num GPUs Available:  0\n"
     ]
    }
   ],
   "source": [
    "# Improt necessary libraries\n",
    "import tensorflow as tf\n",
    "import tensorflow_hub as hub\n",
    "print(tf.__version__)\n",
    "print(hub.__version__)\n",
    "\n",
    "# Check if GPU is available\n",
    "import tensorflow as tf\n",
    "print(\"Num GPUs Available: \", len(tf.config.list_physical_devices('GPU')))\n"
   ]
  },
  {
   "cell_type": "code",
   "execution_count": null,
   "metadata": {},
   "outputs": [],
   "source": [
    "## Get "
   ]
  }
 ],
 "metadata": {
  "kernelspec": {
   "display_name": "Python 3",
   "language": "python",
   "name": "python3"
  },
  "language_info": {
   "codemirror_mode": {
    "name": "ipython",
    "version": 3
   },
   "file_extension": ".py",
   "mimetype": "text/x-python",
   "name": "python",
   "nbconvert_exporter": "python",
   "pygments_lexer": "ipython3",
   "version": "3.11.9"
  }
 },
 "nbformat": 4,
 "nbformat_minor": 2
}
